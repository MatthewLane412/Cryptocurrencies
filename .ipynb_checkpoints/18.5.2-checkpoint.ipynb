{
 "cells": [
  {
   "cell_type": "code",
   "execution_count": 23,
   "id": "0ca31472",
   "metadata": {},
   "outputs": [],
   "source": [
    "import pandas as pd\n",
    "from sklearn.preprocessing import StandardScaler\n",
    "from sklearn.decomposition import PCA\n",
    "from sklearn.cluster import KMeans\n",
    "import hvplot.pandas"
   ]
  },
  {
   "cell_type": "code",
   "execution_count": 24,
   "id": "20a78dd8",
   "metadata": {},
   "outputs": [
    {
     "data": {
      "text/html": [
       "<div>\n",
       "<style scoped>\n",
       "    .dataframe tbody tr th:only-of-type {\n",
       "        vertical-align: middle;\n",
       "    }\n",
       "\n",
       "    .dataframe tbody tr th {\n",
       "        vertical-align: top;\n",
       "    }\n",
       "\n",
       "    .dataframe thead th {\n",
       "        text-align: right;\n",
       "    }\n",
       "</style>\n",
       "<table border=\"1\" class=\"dataframe\">\n",
       "  <thead>\n",
       "    <tr style=\"text-align: right;\">\n",
       "      <th></th>\n",
       "      <th>sepal_length</th>\n",
       "      <th>sepal_width</th>\n",
       "      <th>petal_length</th>\n",
       "      <th>petal_width</th>\n",
       "    </tr>\n",
       "  </thead>\n",
       "  <tbody>\n",
       "    <tr>\n",
       "      <th>0</th>\n",
       "      <td>5.1</td>\n",
       "      <td>3.5</td>\n",
       "      <td>1.4</td>\n",
       "      <td>0.2</td>\n",
       "    </tr>\n",
       "    <tr>\n",
       "      <th>1</th>\n",
       "      <td>4.9</td>\n",
       "      <td>3.0</td>\n",
       "      <td>1.4</td>\n",
       "      <td>0.2</td>\n",
       "    </tr>\n",
       "    <tr>\n",
       "      <th>2</th>\n",
       "      <td>4.7</td>\n",
       "      <td>3.2</td>\n",
       "      <td>1.3</td>\n",
       "      <td>0.2</td>\n",
       "    </tr>\n",
       "    <tr>\n",
       "      <th>3</th>\n",
       "      <td>4.6</td>\n",
       "      <td>3.1</td>\n",
       "      <td>1.5</td>\n",
       "      <td>0.2</td>\n",
       "    </tr>\n",
       "    <tr>\n",
       "      <th>4</th>\n",
       "      <td>5.0</td>\n",
       "      <td>3.6</td>\n",
       "      <td>1.4</td>\n",
       "      <td>0.2</td>\n",
       "    </tr>\n",
       "  </tbody>\n",
       "</table>\n",
       "</div>"
      ],
      "text/plain": [
       "   sepal_length  sepal_width  petal_length  petal_width\n",
       "0           5.1          3.5           1.4          0.2\n",
       "1           4.9          3.0           1.4          0.2\n",
       "2           4.7          3.2           1.3          0.2\n",
       "3           4.6          3.1           1.5          0.2\n",
       "4           5.0          3.6           1.4          0.2"
      ]
     },
     "execution_count": 24,
     "metadata": {},
     "output_type": "execute_result"
    }
   ],
   "source": [
    "# Loading the preprocessed iris dataset\n",
    "file_path = \"Resources/new_iris_data.csv\"\n",
    "df_iris = pd.read_csv(file_path)\n",
    "df_iris.head()\n"
   ]
  },
  {
   "cell_type": "code",
   "execution_count": 25,
   "id": "454feef4",
   "metadata": {},
   "outputs": [
    {
     "name": "stdout",
     "output_type": "stream",
     "text": [
      "[[-0.90068117  1.03205722 -1.3412724  -1.31297673]\n",
      " [-1.14301691 -0.1249576  -1.3412724  -1.31297673]\n",
      " [-1.38535265  0.33784833 -1.39813811 -1.31297673]\n",
      " [-1.50652052  0.10644536 -1.2844067  -1.31297673]\n",
      " [-1.02184904  1.26346019 -1.3412724  -1.31297673]]\n"
     ]
    }
   ],
   "source": [
    "# Standardize data with StandardScaler\n",
    "iris_scaled = StandardScaler().fit_transform(df_iris)\n",
    "print(iris_scaled[0:5])"
   ]
  },
  {
   "cell_type": "code",
   "execution_count": 26,
   "id": "a70fe81d",
   "metadata": {},
   "outputs": [],
   "source": [
    "# Initialize PCA model\n",
    "pca = PCA(n_components=2)"
   ]
  },
  {
   "cell_type": "code",
   "execution_count": 27,
   "id": "0a132236",
   "metadata": {},
   "outputs": [],
   "source": [
    "# Get two principal components for the iris data.\n",
    "iris_pca = pca.fit_transform(iris_scaled)"
   ]
  },
  {
   "cell_type": "code",
   "execution_count": 28,
   "id": "fcd18651",
   "metadata": {},
   "outputs": [
    {
     "data": {
      "text/html": [
       "<div>\n",
       "<style scoped>\n",
       "    .dataframe tbody tr th:only-of-type {\n",
       "        vertical-align: middle;\n",
       "    }\n",
       "\n",
       "    .dataframe tbody tr th {\n",
       "        vertical-align: top;\n",
       "    }\n",
       "\n",
       "    .dataframe thead th {\n",
       "        text-align: right;\n",
       "    }\n",
       "</style>\n",
       "<table border=\"1\" class=\"dataframe\">\n",
       "  <thead>\n",
       "    <tr style=\"text-align: right;\">\n",
       "      <th></th>\n",
       "      <th>principal component 1</th>\n",
       "      <th>principal component 2</th>\n",
       "    </tr>\n",
       "  </thead>\n",
       "  <tbody>\n",
       "    <tr>\n",
       "      <th>0</th>\n",
       "      <td>-2.264542</td>\n",
       "      <td>0.505704</td>\n",
       "    </tr>\n",
       "    <tr>\n",
       "      <th>1</th>\n",
       "      <td>-2.086426</td>\n",
       "      <td>-0.655405</td>\n",
       "    </tr>\n",
       "    <tr>\n",
       "      <th>2</th>\n",
       "      <td>-2.367950</td>\n",
       "      <td>-0.318477</td>\n",
       "    </tr>\n",
       "    <tr>\n",
       "      <th>3</th>\n",
       "      <td>-2.304197</td>\n",
       "      <td>-0.575368</td>\n",
       "    </tr>\n",
       "    <tr>\n",
       "      <th>4</th>\n",
       "      <td>-2.388777</td>\n",
       "      <td>0.674767</td>\n",
       "    </tr>\n",
       "  </tbody>\n",
       "</table>\n",
       "</div>"
      ],
      "text/plain": [
       "   principal component 1  principal component 2\n",
       "0              -2.264542               0.505704\n",
       "1              -2.086426              -0.655405\n",
       "2              -2.367950              -0.318477\n",
       "3              -2.304197              -0.575368\n",
       "4              -2.388777               0.674767"
      ]
     },
     "execution_count": 28,
     "metadata": {},
     "output_type": "execute_result"
    }
   ],
   "source": [
    "# Transform PCA data to a DataFrame\n",
    "df_iris_pca = pd.DataFrame(\n",
    "    data=iris_pca, columns=[\"principal component 1\", \"principal component 2\"]\n",
    ")\n",
    "df_iris_pca.head()"
   ]
  },
  {
   "cell_type": "code",
   "execution_count": 29,
   "id": "fde22e57",
   "metadata": {},
   "outputs": [
    {
     "data": {
      "text/plain": [
       "array([0.72770452, 0.23030523])"
      ]
     },
     "execution_count": 29,
     "metadata": {},
     "output_type": "execute_result"
    }
   ],
   "source": [
    "# Fetch the explained variance\n",
    "pca.explained_variance_ratio_"
   ]
  },
  {
   "cell_type": "code",
   "execution_count": 30,
   "id": "26f7fe19",
   "metadata": {},
   "outputs": [
    {
     "name": "stderr",
     "output_type": "stream",
     "text": [
      "C:\\Users\\Lane\\anaconda3\\lib\\site-packages\\sklearn\\cluster\\_kmeans.py:881: UserWarning: KMeans is known to have a memory leak on Windows with MKL, when there are less chunks than available threads. You can avoid it by setting the environment variable OMP_NUM_THREADS=1.\n",
      "  warnings.warn(\n"
     ]
    },
    {
     "data": {},
     "metadata": {},
     "output_type": "display_data"
    },
    {
     "data": {
      "application/vnd.holoviews_exec.v0+json": "",
      "text/html": [
       "<div id='1546'>\n",
       "\n",
       "\n",
       "\n",
       "\n",
       "\n",
       "  <div class=\"bk-root\" id=\"f35ae01a-556e-4c5b-a356-8ba6268fb709\" data-root-id=\"1546\"></div>\n",
       "</div>\n",
       "<script type=\"application/javascript\">(function(root) {\n",
       "  function embed_document(root) {\n",
       "    var docs_json = {\"d4617e0d-1cba-41d5-b8df-3a67b453a3f3\":{\"defs\":[{\"extends\":null,\"module\":null,\"name\":\"ReactiveHTML1\",\"overrides\":[],\"properties\":[]},{\"extends\":null,\"module\":null,\"name\":\"FlexBox1\",\"overrides\":[],\"properties\":[{\"default\":\"flex-start\",\"kind\":null,\"name\":\"align_content\"},{\"default\":\"flex-start\",\"kind\":null,\"name\":\"align_items\"},{\"default\":\"row\",\"kind\":null,\"name\":\"flex_direction\"},{\"default\":\"wrap\",\"kind\":null,\"name\":\"flex_wrap\"},{\"default\":\"flex-start\",\"kind\":null,\"name\":\"justify_content\"}]},{\"extends\":null,\"module\":null,\"name\":\"TemplateActions1\",\"overrides\":[],\"properties\":[{\"default\":0,\"kind\":null,\"name\":\"open_modal\"},{\"default\":0,\"kind\":null,\"name\":\"close_modal\"}]},{\"extends\":null,\"module\":null,\"name\":\"MaterialTemplateActions1\",\"overrides\":[],\"properties\":[{\"default\":0,\"kind\":null,\"name\":\"open_modal\"},{\"default\":0,\"kind\":null,\"name\":\"close_modal\"}]}],\"roots\":{\"references\":[{\"attributes\":{},\"id\":\"1593\",\"type\":\"AllLabels\"},{\"attributes\":{},\"id\":\"1598\",\"type\":\"AllLabels\"},{\"attributes\":{\"ticks\":[1,2,3,4,5,6,7,8,9,10]},\"id\":\"1590\",\"type\":\"FixedTicker\"},{\"attributes\":{\"line_alpha\":0.1,\"line_color\":\"#30a2da\",\"line_width\":2,\"x\":{\"field\":\"k\"},\"y\":{\"field\":\"inertia\"}},\"id\":\"1585\",\"type\":\"Line\"},{\"attributes\":{},\"id\":\"1592\",\"type\":\"BasicTickFormatter\"},{\"attributes\":{\"callback\":null,\"renderers\":[{\"id\":\"1587\"}],\"tags\":[\"hv_created\"],\"tooltips\":[[\"k\",\"@{k}\"],[\"inertia\",\"@{inertia}\"]]},\"id\":\"1550\",\"type\":\"HoverTool\"},{\"attributes\":{\"end\":629.4448064337398,\"reset_end\":629.4448064337398,\"reset_start\":-26.22264474443685,\"start\":-26.22264474443685,\"tags\":[[[\"inertia\",\"inertia\",null]]]},\"id\":\"1549\",\"type\":\"Range1d\"},{\"attributes\":{\"source\":{\"id\":\"1581\"}},\"id\":\"1588\",\"type\":\"CDSView\"},{\"attributes\":{},\"id\":\"1556\",\"type\":\"LinearScale\"},{\"attributes\":{\"end\":10.0,\"reset_end\":10.0,\"reset_start\":1.0,\"start\":1.0,\"tags\":[[[\"k\",\"k\",null]]]},\"id\":\"1548\",\"type\":\"Range1d\"},{\"attributes\":{},\"id\":\"1558\",\"type\":\"LinearScale\"},{\"attributes\":{},\"id\":\"1605\",\"type\":\"UnionRenderers\"},{\"attributes\":{},\"id\":\"1597\",\"type\":\"BasicTickFormatter\"},{\"attributes\":{\"coordinates\":null,\"group\":null,\"text\":\"Elbow Curve\",\"text_color\":\"black\",\"text_font_size\":\"12pt\"},\"id\":\"1552\",\"type\":\"Title\"},{\"attributes\":{\"data\":{\"inertia\":{\"__ndarray__\":\"aDafYnL2gUA2bWBmntZoQKimqsr9Bl1AVfWgT6xnVkDj0qR94pNQQBMzFtg6gkxANIlQDTvuR0D9MOcNVaJDQOy1b3wwFkBA+C2/QpNqPEA=\",\"dtype\":\"float64\",\"order\":\"little\",\"shape\":[10]},\"k\":[1,2,3,4,5,6,7,8,9,10]},\"selected\":{\"id\":\"1582\"},\"selection_policy\":{\"id\":\"1605\"}},\"id\":\"1581\",\"type\":\"ColumnDataSource\"},{\"attributes\":{\"axis\":{\"id\":\"1560\"},\"coordinates\":null,\"grid_line_color\":null,\"group\":null,\"ticker\":null},\"id\":\"1563\",\"type\":\"Grid\"},{\"attributes\":{\"margin\":[5,5,5,5],\"name\":\"HSpacer02655\",\"sizing_mode\":\"stretch_width\"},\"id\":\"1617\",\"type\":\"Spacer\"},{\"attributes\":{},\"id\":\"1582\",\"type\":\"Selection\"},{\"attributes\":{\"below\":[{\"id\":\"1560\"}],\"center\":[{\"id\":\"1563\"},{\"id\":\"1567\"}],\"height\":300,\"left\":[{\"id\":\"1564\"}],\"margin\":[5,5,5,5],\"min_border_bottom\":10,\"min_border_left\":10,\"min_border_right\":10,\"min_border_top\":10,\"renderers\":[{\"id\":\"1587\"}],\"sizing_mode\":\"fixed\",\"title\":{\"id\":\"1552\"},\"toolbar\":{\"id\":\"1574\"},\"width\":700,\"x_range\":{\"id\":\"1548\"},\"x_scale\":{\"id\":\"1556\"},\"y_range\":{\"id\":\"1549\"},\"y_scale\":{\"id\":\"1558\"}},\"id\":\"1551\",\"subtype\":\"Figure\",\"type\":\"Plot\"},{\"attributes\":{\"tools\":[{\"id\":\"1550\"},{\"id\":\"1568\"},{\"id\":\"1569\"},{\"id\":\"1570\"},{\"id\":\"1571\"},{\"id\":\"1572\"}]},\"id\":\"1574\",\"type\":\"Toolbar\"},{\"attributes\":{\"axis_label\":\"k\",\"coordinates\":null,\"formatter\":{\"id\":\"1592\"},\"group\":null,\"major_label_policy\":{\"id\":\"1593\"},\"ticker\":{\"id\":\"1590\"}},\"id\":\"1560\",\"type\":\"LinearAxis\"},{\"attributes\":{\"line_color\":\"#30a2da\",\"line_width\":2,\"x\":{\"field\":\"k\"},\"y\":{\"field\":\"inertia\"}},\"id\":\"1584\",\"type\":\"Line\"},{\"attributes\":{\"axis\":{\"id\":\"1564\"},\"coordinates\":null,\"dimension\":1,\"grid_line_color\":null,\"group\":null,\"ticker\":null},\"id\":\"1567\",\"type\":\"Grid\"},{\"attributes\":{},\"id\":\"1569\",\"type\":\"PanTool\"},{\"attributes\":{\"axis_label\":\"inertia\",\"coordinates\":null,\"formatter\":{\"id\":\"1597\"},\"group\":null,\"major_label_policy\":{\"id\":\"1598\"},\"ticker\":{\"id\":\"1565\"}},\"id\":\"1564\",\"type\":\"LinearAxis\"},{\"attributes\":{},\"id\":\"1565\",\"type\":\"BasicTicker\"},{\"attributes\":{\"line_alpha\":0.2,\"line_color\":\"#30a2da\",\"line_width\":2,\"x\":{\"field\":\"k\"},\"y\":{\"field\":\"inertia\"}},\"id\":\"1586\",\"type\":\"Line\"},{\"attributes\":{},\"id\":\"1570\",\"type\":\"WheelZoomTool\"},{\"attributes\":{\"line_color\":\"#30a2da\",\"line_width\":2,\"x\":{\"field\":\"k\"},\"y\":{\"field\":\"inertia\"}},\"id\":\"1589\",\"type\":\"Line\"},{\"attributes\":{},\"id\":\"1568\",\"type\":\"SaveTool\"},{\"attributes\":{\"margin\":[5,5,5,5],\"name\":\"HSpacer02654\",\"sizing_mode\":\"stretch_width\"},\"id\":\"1547\",\"type\":\"Spacer\"},{\"attributes\":{\"overlay\":{\"id\":\"1573\"}},\"id\":\"1571\",\"type\":\"BoxZoomTool\"},{\"attributes\":{},\"id\":\"1572\",\"type\":\"ResetTool\"},{\"attributes\":{\"bottom_units\":\"screen\",\"coordinates\":null,\"fill_alpha\":0.5,\"fill_color\":\"lightgrey\",\"group\":null,\"left_units\":\"screen\",\"level\":\"overlay\",\"line_alpha\":1.0,\"line_color\":\"black\",\"line_dash\":[4,4],\"line_width\":2,\"right_units\":\"screen\",\"syncable\":false,\"top_units\":\"screen\"},\"id\":\"1573\",\"type\":\"BoxAnnotation\"},{\"attributes\":{\"coordinates\":null,\"data_source\":{\"id\":\"1581\"},\"glyph\":{\"id\":\"1584\"},\"group\":null,\"hover_glyph\":null,\"muted_glyph\":{\"id\":\"1586\"},\"nonselection_glyph\":{\"id\":\"1585\"},\"selection_glyph\":{\"id\":\"1589\"},\"view\":{\"id\":\"1588\"}},\"id\":\"1587\",\"type\":\"GlyphRenderer\"},{\"attributes\":{\"children\":[{\"id\":\"1547\"},{\"id\":\"1551\"},{\"id\":\"1617\"}],\"margin\":[0,0,0,0],\"name\":\"Row02650\",\"tags\":[\"embedded\"]},\"id\":\"1546\",\"type\":\"Row\"}],\"root_ids\":[\"1546\"]},\"title\":\"Bokeh Application\",\"version\":\"2.4.2\"}};\n",
       "    var render_items = [{\"docid\":\"d4617e0d-1cba-41d5-b8df-3a67b453a3f3\",\"root_ids\":[\"1546\"],\"roots\":{\"1546\":\"f35ae01a-556e-4c5b-a356-8ba6268fb709\"}}];\n",
       "    root.Bokeh.embed.embed_items_notebook(docs_json, render_items);\n",
       "  }\n",
       "  if (root.Bokeh !== undefined && root.Bokeh.Panel !== undefined) {\n",
       "    embed_document(root);\n",
       "  } else {\n",
       "    var attempts = 0;\n",
       "    var timer = setInterval(function(root) {\n",
       "      if (root.Bokeh !== undefined && root.Bokeh.Panel !== undefined) {\n",
       "        clearInterval(timer);\n",
       "        embed_document(root);\n",
       "      } else if (document.readyState == \"complete\") {\n",
       "        attempts++;\n",
       "        if (attempts > 200) {\n",
       "          clearInterval(timer);\n",
       "          console.log(\"Bokeh: ERROR: Unable to run BokehJS code because BokehJS library is missing\");\n",
       "        }\n",
       "      }\n",
       "    }, 25, root)\n",
       "  }\n",
       "})(window);</script>"
      ],
      "text/plain": [
       ":Curve   [k]   (inertia)"
      ]
     },
     "execution_count": 30,
     "metadata": {
      "application/vnd.holoviews_exec.v0+json": {
       "id": "1546"
      }
     },
     "output_type": "execute_result"
    }
   ],
   "source": [
    "# Find the best value for K\n",
    "inertia = []\n",
    "k = list(range(1, 11))\n",
    "\n",
    "# Calculate the inertia for the range of K values\n",
    "for i in k:\n",
    "    km = KMeans(n_clusters=i, random_state=0)\n",
    "    km.fit(df_iris_pca)\n",
    "    inertia.append(km.inertia_)\n",
    "\n",
    "# Create the elbow curve\n",
    "elbow_data = {\"k\": k, \"inertia\": inertia}\n",
    "df_elbow = pd.DataFrame(elbow_data)\n",
    "df_elbow.hvplot.line(x=\"k\", y=\"inertia\", xticks=k, title=\"Elbow Curve\")"
   ]
  },
  {
   "cell_type": "code",
   "execution_count": 31,
   "id": "cc178413",
   "metadata": {},
   "outputs": [
    {
     "data": {
      "text/html": [
       "<div>\n",
       "<style scoped>\n",
       "    .dataframe tbody tr th:only-of-type {\n",
       "        vertical-align: middle;\n",
       "    }\n",
       "\n",
       "    .dataframe tbody tr th {\n",
       "        vertical-align: top;\n",
       "    }\n",
       "\n",
       "    .dataframe thead th {\n",
       "        text-align: right;\n",
       "    }\n",
       "</style>\n",
       "<table border=\"1\" class=\"dataframe\">\n",
       "  <thead>\n",
       "    <tr style=\"text-align: right;\">\n",
       "      <th></th>\n",
       "      <th>principal component 1</th>\n",
       "      <th>principal component 2</th>\n",
       "      <th>class</th>\n",
       "    </tr>\n",
       "  </thead>\n",
       "  <tbody>\n",
       "    <tr>\n",
       "      <th>0</th>\n",
       "      <td>-2.264542</td>\n",
       "      <td>0.505704</td>\n",
       "      <td>0</td>\n",
       "    </tr>\n",
       "    <tr>\n",
       "      <th>1</th>\n",
       "      <td>-2.086426</td>\n",
       "      <td>-0.655405</td>\n",
       "      <td>0</td>\n",
       "    </tr>\n",
       "    <tr>\n",
       "      <th>2</th>\n",
       "      <td>-2.367950</td>\n",
       "      <td>-0.318477</td>\n",
       "      <td>0</td>\n",
       "    </tr>\n",
       "    <tr>\n",
       "      <th>3</th>\n",
       "      <td>-2.304197</td>\n",
       "      <td>-0.575368</td>\n",
       "      <td>0</td>\n",
       "    </tr>\n",
       "    <tr>\n",
       "      <th>4</th>\n",
       "      <td>-2.388777</td>\n",
       "      <td>0.674767</td>\n",
       "      <td>0</td>\n",
       "    </tr>\n",
       "  </tbody>\n",
       "</table>\n",
       "</div>"
      ],
      "text/plain": [
       "   principal component 1  principal component 2  class\n",
       "0              -2.264542               0.505704      0\n",
       "1              -2.086426              -0.655405      0\n",
       "2              -2.367950              -0.318477      0\n",
       "3              -2.304197              -0.575368      0\n",
       "4              -2.388777               0.674767      0"
      ]
     },
     "execution_count": 31,
     "metadata": {},
     "output_type": "execute_result"
    }
   ],
   "source": [
    "# Initialize the K-means model\n",
    "model = KMeans(n_clusters=3, random_state=0)\n",
    "\n",
    "# Fit the model\n",
    "model.fit(df_iris_pca)\n",
    "\n",
    "# Predict clusters\n",
    "predictions = model.predict(df_iris_pca)\n",
    "\n",
    "# Add the predicted class columns\n",
    "df_iris_pca[\"class\"] = model.labels_\n",
    "df_iris_pca.head()"
   ]
  },
  {
   "cell_type": "code",
   "execution_count": 34,
   "id": "31512d51",
   "metadata": {},
   "outputs": [
    {
     "data": {
      "text/plain": [
       "array([0, 0, 0, 0, 0, 0, 0, 0, 0, 0, 0, 0, 0, 0, 0, 0, 0, 0, 0, 0, 0, 0,\n",
       "       0, 0, 0, 0, 0, 0, 0, 0, 0, 0, 0, 0, 0, 0, 0, 0, 0, 0, 0, 0, 0, 0,\n",
       "       0, 0, 0, 0, 0, 0, 2, 2, 2, 1, 1, 1, 2, 1, 1, 1, 1, 1, 1, 1, 1, 2,\n",
       "       1, 1, 1, 1, 2, 1, 1, 1, 1, 2, 2, 2, 1, 1, 1, 1, 1, 1, 1, 2, 2, 1,\n",
       "       1, 1, 1, 1, 1, 1, 1, 1, 1, 1, 1, 1, 2, 1, 2, 2, 2, 2, 1, 2, 2, 2,\n",
       "       2, 2, 2, 1, 1, 2, 2, 2, 2, 1, 2, 1, 2, 1, 2, 2, 1, 2, 2, 2, 2, 2,\n",
       "       2, 1, 1, 2, 2, 2, 1, 2, 2, 2, 1, 2, 2, 2, 1, 2, 2, 1])"
      ]
     },
     "execution_count": 34,
     "metadata": {},
     "output_type": "execute_result"
    }
   ],
   "source": [
    "model.labels_"
   ]
  },
  {
   "cell_type": "code",
   "execution_count": 33,
   "id": "8b57db40",
   "metadata": {},
   "outputs": [
    {
     "data": {},
     "metadata": {},
     "output_type": "display_data"
    },
    {
     "data": {
      "application/vnd.holoviews_exec.v0+json": "",
      "text/html": [
       "<div id='1664'>\n",
       "\n",
       "\n",
       "\n",
       "\n",
       "\n",
       "  <div class=\"bk-root\" id=\"06416693-189e-44bf-85a8-b96aaa8e30f5\" data-root-id=\"1664\"></div>\n",
       "</div>\n",
       "<script type=\"application/javascript\">(function(root) {\n",
       "  function embed_document(root) {\n",
       "    var docs_json = {\"426ddb58-3504-46ee-a6a3-a7f9d2891255\":{\"defs\":[{\"extends\":null,\"module\":null,\"name\":\"ReactiveHTML1\",\"overrides\":[],\"properties\":[]},{\"extends\":null,\"module\":null,\"name\":\"FlexBox1\",\"overrides\":[],\"properties\":[{\"default\":\"flex-start\",\"kind\":null,\"name\":\"align_content\"},{\"default\":\"flex-start\",\"kind\":null,\"name\":\"align_items\"},{\"default\":\"row\",\"kind\":null,\"name\":\"flex_direction\"},{\"default\":\"wrap\",\"kind\":null,\"name\":\"flex_wrap\"},{\"default\":\"flex-start\",\"kind\":null,\"name\":\"justify_content\"}]},{\"extends\":null,\"module\":null,\"name\":\"TemplateActions1\",\"overrides\":[],\"properties\":[{\"default\":0,\"kind\":null,\"name\":\"open_modal\"},{\"default\":0,\"kind\":null,\"name\":\"close_modal\"}]},{\"extends\":null,\"module\":null,\"name\":\"MaterialTemplateActions1\",\"overrides\":[],\"properties\":[{\"default\":0,\"kind\":null,\"name\":\"open_modal\"},{\"default\":0,\"kind\":null,\"name\":\"close_modal\"}]}],\"roots\":{\"references\":[{\"attributes\":{\"coordinates\":null,\"group\":null,\"text_color\":\"black\",\"text_font_size\":\"12pt\"},\"id\":\"1672\",\"type\":\"Title\"},{\"attributes\":{\"click_policy\":\"mute\",\"coordinates\":null,\"group\":null,\"items\":[{\"id\":\"1726\"},{\"id\":\"1748\"},{\"id\":\"1772\"}],\"location\":[0,0],\"title\":\"class\"},\"id\":\"1725\",\"type\":\"Legend\"},{\"attributes\":{\"fill_color\":{\"value\":\"#e5ae38\"},\"hatch_color\":{\"value\":\"#e5ae38\"},\"line_color\":{\"value\":\"#e5ae38\"},\"size\":{\"value\":5.477225575051661},\"x\":{\"field\":\"principal component 1\"},\"y\":{\"field\":\"principal component 2\"}},\"id\":\"1753\",\"type\":\"Scatter\"},{\"attributes\":{\"angle\":{\"value\":0.0},\"fill_alpha\":{\"value\":1.0},\"fill_color\":{\"value\":\"#30a2da\"},\"hatch_alpha\":{\"value\":1.0},\"hatch_color\":{\"value\":\"#30a2da\"},\"hatch_scale\":{\"value\":12.0},\"hatch_weight\":{\"value\":1.0},\"line_alpha\":{\"value\":1.0},\"line_cap\":{\"value\":\"butt\"},\"line_color\":{\"value\":\"#30a2da\"},\"line_dash\":{\"value\":[]},\"line_dash_offset\":{\"value\":0},\"line_join\":{\"value\":\"bevel\"},\"line_width\":{\"value\":1},\"marker\":{\"value\":\"circle\"},\"size\":{\"value\":5.477225575051661},\"x\":{\"field\":\"principal component 1\"},\"y\":{\"field\":\"principal component 2\"}},\"id\":\"1727\",\"type\":\"Scatter\"},{\"attributes\":{\"below\":[{\"id\":\"1680\"}],\"center\":[{\"id\":\"1683\"},{\"id\":\"1687\"}],\"height\":300,\"left\":[{\"id\":\"1684\"}],\"margin\":[5,5,5,5],\"min_border_bottom\":10,\"min_border_left\":10,\"min_border_right\":10,\"min_border_top\":10,\"renderers\":[{\"id\":\"1713\"},{\"id\":\"1734\"},{\"id\":\"1756\"}],\"right\":[{\"id\":\"1725\"}],\"sizing_mode\":\"fixed\",\"title\":{\"id\":\"1672\"},\"toolbar\":{\"id\":\"1694\"},\"width\":700,\"x_range\":{\"id\":\"1666\"},\"x_scale\":{\"id\":\"1676\"},\"y_range\":{\"id\":\"1667\"},\"y_scale\":{\"id\":\"1678\"}},\"id\":\"1671\",\"subtype\":\"Figure\",\"type\":\"Plot\"},{\"attributes\":{\"axis_label\":\"principal component 1\",\"coordinates\":null,\"formatter\":{\"id\":\"1702\"},\"group\":null,\"major_label_policy\":{\"id\":\"1703\"},\"ticker\":{\"id\":\"1681\"}},\"id\":\"1680\",\"type\":\"LinearAxis\"},{\"attributes\":{\"angle\":{\"value\":0.0},\"fill_alpha\":{\"value\":1.0},\"fill_color\":{\"value\":\"#e5ae38\"},\"hatch_alpha\":{\"value\":1.0},\"hatch_color\":{\"value\":\"#e5ae38\"},\"hatch_scale\":{\"value\":12.0},\"hatch_weight\":{\"value\":1.0},\"line_alpha\":{\"value\":1.0},\"line_cap\":{\"value\":\"butt\"},\"line_color\":{\"value\":\"#e5ae38\"},\"line_dash\":{\"value\":[]},\"line_dash_offset\":{\"value\":0},\"line_join\":{\"value\":\"bevel\"},\"line_width\":{\"value\":1},\"marker\":{\"value\":\"circle\"},\"size\":{\"value\":5.477225575051661},\"x\":{\"field\":\"principal component 1\"},\"y\":{\"field\":\"principal component 2\"}},\"id\":\"1773\",\"type\":\"Scatter\"},{\"attributes\":{\"fill_alpha\":{\"value\":0.2},\"fill_color\":{\"value\":\"#e5ae38\"},\"hatch_alpha\":{\"value\":0.2},\"hatch_color\":{\"value\":\"#e5ae38\"},\"line_alpha\":{\"value\":0.2},\"line_color\":{\"value\":\"#e5ae38\"},\"size\":{\"value\":5.477225575051661},\"x\":{\"field\":\"principal component 1\"},\"y\":{\"field\":\"principal component 2\"}},\"id\":\"1755\",\"type\":\"Scatter\"},{\"attributes\":{\"coordinates\":null,\"data_source\":{\"id\":\"1728\"},\"glyph\":{\"id\":\"1731\"},\"group\":null,\"hover_glyph\":null,\"muted_glyph\":{\"id\":\"1733\"},\"nonselection_glyph\":{\"id\":\"1732\"},\"selection_glyph\":{\"id\":\"1749\"},\"view\":{\"id\":\"1735\"}},\"id\":\"1734\",\"type\":\"GlyphRenderer\"},{\"attributes\":{\"axis\":{\"id\":\"1684\"},\"coordinates\":null,\"dimension\":1,\"grid_line_color\":null,\"group\":null,\"ticker\":null},\"id\":\"1687\",\"type\":\"Grid\"},{\"attributes\":{\"source\":{\"id\":\"1728\"}},\"id\":\"1735\",\"type\":\"CDSView\"},{\"attributes\":{\"source\":{\"id\":\"1750\"}},\"id\":\"1757\",\"type\":\"CDSView\"},{\"attributes\":{},\"id\":\"1681\",\"type\":\"BasicTicker\"},{\"attributes\":{\"children\":[{\"id\":\"1665\"},{\"id\":\"1671\"},{\"id\":\"1900\"}],\"margin\":[0,0,0,0],\"name\":\"Row02901\",\"tags\":[\"embedded\"]},\"id\":\"1664\",\"type\":\"Row\"},{\"attributes\":{},\"id\":\"1690\",\"type\":\"WheelZoomTool\"},{\"attributes\":{\"source\":{\"id\":\"1707\"}},\"id\":\"1714\",\"type\":\"CDSView\"},{\"attributes\":{\"coordinates\":null,\"data_source\":{\"id\":\"1750\"},\"glyph\":{\"id\":\"1753\"},\"group\":null,\"hover_glyph\":null,\"muted_glyph\":{\"id\":\"1755\"},\"nonselection_glyph\":{\"id\":\"1754\"},\"selection_glyph\":{\"id\":\"1773\"},\"view\":{\"id\":\"1757\"}},\"id\":\"1756\",\"type\":\"GlyphRenderer\"},{\"attributes\":{\"data\":{\"class\":{\"__ndarray__\":\"AAAAAAAAAAAAAAAAAAAAAAAAAAAAAAAAAAAAAAAAAAAAAAAAAAAAAAAAAAAAAAAAAAAAAAAAAAAAAAAAAAAAAAAAAAAAAAAAAAAAAAAAAAAAAAAAAAAAAAAAAAAAAAAAAAAAAAAAAAAAAAAAAAAAAAAAAAAAAAAAAAAAAAAAAAAAAAAAAAAAAAAAAAAAAAAAAAAAAAAAAAAAAAAAAAAAAAAAAAAAAAAAAAAAAAAAAAAAAAAAAAAAAAAAAAAAAAAAAAAAAAAAAAA=\",\"dtype\":\"int32\",\"order\":\"little\",\"shape\":[50]},\"principal component 1\":{\"__ndarray__\":\"QBG/DcgdAsCgflXa/7AAwC4tSgGQ8QLArnjV6/5uAsB/OOBfNxwDwLMJAJp1kADA7VhZG9GQA8C6vPx66N4BwLvvZ05UvALA5NUzb2iCAcDGACQK0k4BwH+PWzp4ngLAbUHW4evKAcBzYBiPIx4FwOFkYiHQiQHA7cLFMQADAsDDicmkO58BwNTnRqd8hQHAErKL2CBO/r9wMd43N7gCwDou6+IFov6/KnpNIB2jAcAkHszufzEGwHWyHOBnIP2/c29EsmPTAcBqStBn+E//v+kJWiugagDA0BcE6nVYAcD06Z27WB8BwCQNM3l7JgLA3+URJwwoAcCyCNRTnk/9v3aUD3eZ3QTAx4xIYeyAA8Dk1TNvaIIBwAbB4qBfsAHAqQtPDPdaAMDk1TNvaIIBwJ/dMoLUfAPAViP02UddAcA84QHLzkoCwGRzDEaD8v2/YPlj5HF2BMD6iQQfsG3/v/qHnMYlEQHAoe7lFFWaAMDS+qMb0QwDwJNmoB9/LwPALJosq3LQAcDejpZMy6UBwA==\",\"dtype\":\"float64\",\"order\":\"little\",\"shape\":[50]},\"principal component 2\":{\"__ndarray__\":\"ae9787ku4D/2F8lWE/nkv2jYpqjuYdS/DySQjGlp4r/W0afLsZflP7y+IZP5S/g/XySoGooWsz9/eXQ10LHPP80IOjG4hfG/h06pnFa23L9qMKXTKCHxPzS/qP2XTMQ/pao3kBix5r+HiXLvZwbuv92ryBtaPf4/lLWrfGrHBUBijF03Ujj4Pzf+/04udeA/9Uk0V9Tl9j8ppZIPTofyP2zAlsG9jNs/3fKSxId67j9Hu+o4P1TfPyTWDBwFVLs/Uu1BJITCxD+2YRod23Pjv3KqjuRgBtE/boxIfx6q4T/gGaA2hIvVP1tBWpX4JtS/RgayRej43r8Plx54QH/cP7pxJTRvQf0/xrJwma57AUCHTqmcVrbcvxjn16FhmMe/suVDvSnr5T+HTqmcVrbcv3XEP1q7Ouy/eUSP1gm80j9awmaGk/PdP39/28YcnwLAou8l3FML3b9sssu+Q9XfP+7eGJkvvvI/+Ywv2S8k5r9VqsG4/WjyP9GttwhpMde/ee6vZGBo8D/v7UmWeoGgPw==\",\"dtype\":\"float64\",\"order\":\"little\",\"shape\":[50]},\"principal_component_1\":{\"__ndarray__\":\"QBG/DcgdAsCgflXa/7AAwC4tSgGQ8QLArnjV6/5uAsB/OOBfNxwDwLMJAJp1kADA7VhZG9GQA8C6vPx66N4BwLvvZ05UvALA5NUzb2iCAcDGACQK0k4BwH+PWzp4ngLAbUHW4evKAcBzYBiPIx4FwOFkYiHQiQHA7cLFMQADAsDDicmkO58BwNTnRqd8hQHAErKL2CBO/r9wMd43N7gCwDou6+IFov6/KnpNIB2jAcAkHszufzEGwHWyHOBnIP2/c29EsmPTAcBqStBn+E//v+kJWiugagDA0BcE6nVYAcD06Z27WB8BwCQNM3l7JgLA3+URJwwoAcCyCNRTnk/9v3aUD3eZ3QTAx4xIYeyAA8Dk1TNvaIIBwAbB4qBfsAHAqQtPDPdaAMDk1TNvaIIBwJ/dMoLUfAPAViP02UddAcA84QHLzkoCwGRzDEaD8v2/YPlj5HF2BMD6iQQfsG3/v/qHnMYlEQHAoe7lFFWaAMDS+qMb0QwDwJNmoB9/LwPALJosq3LQAcDejpZMy6UBwA==\",\"dtype\":\"float64\",\"order\":\"little\",\"shape\":[50]},\"principal_component_2\":{\"__ndarray__\":\"ae9787ku4D/2F8lWE/nkv2jYpqjuYdS/DySQjGlp4r/W0afLsZflP7y+IZP5S/g/XySoGooWsz9/eXQ10LHPP80IOjG4hfG/h06pnFa23L9qMKXTKCHxPzS/qP2XTMQ/pao3kBix5r+HiXLvZwbuv92ryBtaPf4/lLWrfGrHBUBijF03Ujj4Pzf+/04udeA/9Uk0V9Tl9j8ppZIPTofyP2zAlsG9jNs/3fKSxId67j9Hu+o4P1TfPyTWDBwFVLs/Uu1BJITCxD+2YRod23Pjv3KqjuRgBtE/boxIfx6q4T/gGaA2hIvVP1tBWpX4JtS/RgayRej43r8Plx54QH/cP7pxJTRvQf0/xrJwma57AUCHTqmcVrbcvxjn16FhmMe/suVDvSnr5T+HTqmcVrbcv3XEP1q7Ouy/eUSP1gm80j9awmaGk/PdP39/28YcnwLAou8l3FML3b9sssu+Q9XfP+7eGJkvvvI/+Ywv2S8k5r9VqsG4/WjyP9GttwhpMde/ee6vZGBo8D/v7UmWeoGgPw==\",\"dtype\":\"float64\",\"order\":\"little\",\"shape\":[50]}},\"selected\":{\"id\":\"1708\"},\"selection_policy\":{\"id\":\"1722\"}},\"id\":\"1707\",\"type\":\"ColumnDataSource\"},{\"attributes\":{\"margin\":[5,5,5,5],\"name\":\"HSpacer02906\",\"sizing_mode\":\"stretch_width\"},\"id\":\"1900\",\"type\":\"Spacer\"},{\"attributes\":{\"axis\":{\"id\":\"1680\"},\"coordinates\":null,\"grid_line_color\":null,\"group\":null,\"ticker\":null},\"id\":\"1683\",\"type\":\"Grid\"},{\"attributes\":{\"label\":{\"value\":\"1\"},\"renderers\":[{\"id\":\"1734\"}]},\"id\":\"1748\",\"type\":\"LegendItem\"},{\"attributes\":{},\"id\":\"1685\",\"type\":\"BasicTicker\"},{\"attributes\":{},\"id\":\"1702\",\"type\":\"BasicTickFormatter\"},{\"attributes\":{\"margin\":[5,5,5,5],\"name\":\"HSpacer02905\",\"sizing_mode\":\"stretch_width\"},\"id\":\"1665\",\"type\":\"Spacer\"},{\"attributes\":{},\"id\":\"1689\",\"type\":\"PanTool\"},{\"attributes\":{},\"id\":\"1729\",\"type\":\"Selection\"},{\"attributes\":{\"axis_label\":\"principal component 2\",\"coordinates\":null,\"formatter\":{\"id\":\"1705\"},\"group\":null,\"major_label_policy\":{\"id\":\"1706\"},\"ticker\":{\"id\":\"1685\"}},\"id\":\"1684\",\"type\":\"LinearAxis\"},{\"attributes\":{},\"id\":\"1769\",\"type\":\"UnionRenderers\"},{\"attributes\":{},\"id\":\"1703\",\"type\":\"AllLabels\"},{\"attributes\":{},\"id\":\"1706\",\"type\":\"AllLabels\"},{\"attributes\":{},\"id\":\"1688\",\"type\":\"SaveTool\"},{\"attributes\":{\"label\":{\"value\":\"0\"},\"renderers\":[{\"id\":\"1713\"}]},\"id\":\"1726\",\"type\":\"LegendItem\"},{\"attributes\":{},\"id\":\"1705\",\"type\":\"BasicTickFormatter\"},{\"attributes\":{\"fill_alpha\":{\"value\":0.1},\"fill_color\":{\"value\":\"#30a2da\"},\"hatch_alpha\":{\"value\":0.1},\"hatch_color\":{\"value\":\"#30a2da\"},\"line_alpha\":{\"value\":0.1},\"line_color\":{\"value\":\"#30a2da\"},\"size\":{\"value\":5.477225575051661},\"x\":{\"field\":\"principal component 1\"},\"y\":{\"field\":\"principal component 2\"}},\"id\":\"1711\",\"type\":\"Scatter\"},{\"attributes\":{\"fill_alpha\":{\"value\":0.2},\"fill_color\":{\"value\":\"#fc4f30\"},\"hatch_alpha\":{\"value\":0.2},\"hatch_color\":{\"value\":\"#fc4f30\"},\"line_alpha\":{\"value\":0.2},\"line_color\":{\"value\":\"#fc4f30\"},\"size\":{\"value\":5.477225575051661},\"x\":{\"field\":\"principal component 1\"},\"y\":{\"field\":\"principal component 2\"}},\"id\":\"1733\",\"type\":\"Scatter\"},{\"attributes\":{\"overlay\":{\"id\":\"1693\"}},\"id\":\"1691\",\"type\":\"BoxZoomTool\"},{\"attributes\":{\"coordinates\":null,\"data_source\":{\"id\":\"1707\"},\"glyph\":{\"id\":\"1710\"},\"group\":null,\"hover_glyph\":null,\"muted_glyph\":{\"id\":\"1712\"},\"nonselection_glyph\":{\"id\":\"1711\"},\"selection_glyph\":{\"id\":\"1727\"},\"view\":{\"id\":\"1714\"}},\"id\":\"1713\",\"type\":\"GlyphRenderer\"},{\"attributes\":{},\"id\":\"1692\",\"type\":\"ResetTool\"},{\"attributes\":{\"fill_alpha\":{\"value\":0.1},\"fill_color\":{\"value\":\"#fc4f30\"},\"hatch_alpha\":{\"value\":0.1},\"hatch_color\":{\"value\":\"#fc4f30\"},\"line_alpha\":{\"value\":0.1},\"line_color\":{\"value\":\"#fc4f30\"},\"size\":{\"value\":5.477225575051661},\"x\":{\"field\":\"principal component 1\"},\"y\":{\"field\":\"principal component 2\"}},\"id\":\"1732\",\"type\":\"Scatter\"},{\"attributes\":{\"angle\":{\"value\":0.0},\"fill_alpha\":{\"value\":1.0},\"fill_color\":{\"value\":\"#fc4f30\"},\"hatch_alpha\":{\"value\":1.0},\"hatch_color\":{\"value\":\"#fc4f30\"},\"hatch_scale\":{\"value\":12.0},\"hatch_weight\":{\"value\":1.0},\"line_alpha\":{\"value\":1.0},\"line_cap\":{\"value\":\"butt\"},\"line_color\":{\"value\":\"#fc4f30\"},\"line_dash\":{\"value\":[]},\"line_dash_offset\":{\"value\":0},\"line_join\":{\"value\":\"bevel\"},\"line_width\":{\"value\":1},\"marker\":{\"value\":\"circle\"},\"size\":{\"value\":5.477225575051661},\"x\":{\"field\":\"principal component 1\"},\"y\":{\"field\":\"principal component 2\"}},\"id\":\"1749\",\"type\":\"Scatter\"},{\"attributes\":{\"bottom_units\":\"screen\",\"coordinates\":null,\"fill_alpha\":0.5,\"fill_color\":\"lightgrey\",\"group\":null,\"left_units\":\"screen\",\"level\":\"overlay\",\"line_alpha\":1.0,\"line_color\":\"black\",\"line_dash\":[4,4],\"line_width\":2,\"right_units\":\"screen\",\"syncable\":false,\"top_units\":\"screen\"},\"id\":\"1693\",\"type\":\"BoxAnnotation\"},{\"attributes\":{\"tools\":[{\"id\":\"1668\"},{\"id\":\"1688\"},{\"id\":\"1689\"},{\"id\":\"1690\"},{\"id\":\"1691\"},{\"id\":\"1692\"}]},\"id\":\"1694\",\"type\":\"Toolbar\"},{\"attributes\":{\"data\":{\"class\":{\"__ndarray__\":\"AgAAAAIAAAACAAAAAgAAAAIAAAACAAAAAgAAAAIAAAACAAAAAgAAAAIAAAACAAAAAgAAAAIAAAACAAAAAgAAAAIAAAACAAAAAgAAAAIAAAACAAAAAgAAAAIAAAACAAAAAgAAAAIAAAACAAAAAgAAAAIAAAACAAAAAgAAAAIAAAACAAAAAgAAAAIAAAACAAAAAgAAAAIAAAACAAAAAgAAAAIAAAACAAAAAgAAAAIAAAACAAAAAgAAAAIAAAA=\",\"dtype\":\"int32\",\"order\":\"little\",\"shape\":[47]},\"principal component 1\":{\"__ndarray__\":\"dJicP/Wp8T/qdLjqfHDnP0pUdjeu3/M/kH2nUXn15z+Ct9eWSwfsPwPqCkTLn+c/aokX1wP06z/sYaNJSxH0PxhwyrRZu/U/YiqW1lWi2z+nboqoZcrwP2JoZCMRkP0/XaOtkJqmAUCvkwP82gT3P8Sof1zh4v0/c0K5SJgIBkDnZzhbjmwCQPUm68uNAwBAIk9oqvMjAkBui3vYw9r1P6wQOb/Elfk/O66UReUl/j8Y0QQIDXj5P3odkBhdivc/Q/YnSsB/A0A1hisDH3kKQJfn9rPvUgBAOC4taDwvB0BDqLnnkUT7P6gJnj3aUv8/H9Lu7wVR8D+d2hYHfpP8P4EbVl0h1v0/ivhsDuZ7A0AztjE3VocCQGotB9QUxP0/j042KVhoBkCy+a/eUEj5P+/OTXR+jfU/PgUQICao/T8PDMQGFyEAQLpqwqkqc/4/Og5TGLJYAEC6eb2NdgMAQPHgNY2o7f0/+IJComFV+D8M9OTEsgX2Pw==\",\"dtype\":\"float64\",\"order\":\"little\",\"shape\":[47]},\"principal component 2\":{\"__ndarray__\":\"2Hb2/Z2e6z8cPDfKBSjjP9nNPSGgrOM/tV+rWRnr6D9iOXqk51HgP5VBqiETwtk/XJ7yIJwL0D8biLBClya1v0EteShkC9U/EQg+Gkhd6z/Ak6QJ17XgP4Usy2Xw5Os/CMTpFji+4T+jlDOr+pqpv/FEGSLnotI/nwetLdY66T9MO0mDhTXaP7SQnq/nKee/wo2XATu+/j81oQKF0jTmP3B9L85taNu/bqdDi22E2j80fGgVRqrlPzM3rDJONNA/gjlsMT10BECUjqQTDFhjv0R0hSJpCe0/ZJKR42l12T+SWt+y8znwP52AK36oDfA/bKj7cmzHsD/pvEvBKb3Iv47kXX2vxeE/wV7ipF+Szz8k4TWwbAIFQJGBO1NYo8e/SSs1XS0I6z+mj2oE2yjxPx78A+M9Bts/vqTAq3yE5T/b+zteX4jjP+F2Ilnq8+U/vSJfoH+r6z8+eOdp3MbwP/xDMiongNg/e9tvjSkT0T8fLdG5BEPwPw==\",\"dtype\":\"float64\",\"order\":\"little\",\"shape\":[47]},\"principal_component_1\":{\"__ndarray__\":\"dJicP/Wp8T/qdLjqfHDnP0pUdjeu3/M/kH2nUXn15z+Ct9eWSwfsPwPqCkTLn+c/aokX1wP06z/sYaNJSxH0PxhwyrRZu/U/YiqW1lWi2z+nboqoZcrwP2JoZCMRkP0/XaOtkJqmAUCvkwP82gT3P8Sof1zh4v0/c0K5SJgIBkDnZzhbjmwCQPUm68uNAwBAIk9oqvMjAkBui3vYw9r1P6wQOb/Elfk/O66UReUl/j8Y0QQIDXj5P3odkBhdivc/Q/YnSsB/A0A1hisDH3kKQJfn9rPvUgBAOC4taDwvB0BDqLnnkUT7P6gJnj3aUv8/H9Lu7wVR8D+d2hYHfpP8P4EbVl0h1v0/ivhsDuZ7A0AztjE3VocCQGotB9QUxP0/j042KVhoBkCy+a/eUEj5P+/OTXR+jfU/PgUQICao/T8PDMQGFyEAQLpqwqkqc/4/Og5TGLJYAEC6eb2NdgMAQPHgNY2o7f0/+IJComFV+D8M9OTEsgX2Pw==\",\"dtype\":\"float64\",\"order\":\"little\",\"shape\":[47]},\"principal_component_2\":{\"__ndarray__\":\"2Hb2/Z2e6z8cPDfKBSjjP9nNPSGgrOM/tV+rWRnr6D9iOXqk51HgP5VBqiETwtk/XJ7yIJwL0D8biLBClya1v0EteShkC9U/EQg+Gkhd6z/Ak6QJ17XgP4Usy2Xw5Os/CMTpFji+4T+jlDOr+pqpv/FEGSLnotI/nwetLdY66T9MO0mDhTXaP7SQnq/nKee/wo2XATu+/j81oQKF0jTmP3B9L85taNu/bqdDi22E2j80fGgVRqrlPzM3rDJONNA/gjlsMT10BECUjqQTDFhjv0R0hSJpCe0/ZJKR42l12T+SWt+y8znwP52AK36oDfA/bKj7cmzHsD/pvEvBKb3Iv47kXX2vxeE/wV7ipF+Szz8k4TWwbAIFQJGBO1NYo8e/SSs1XS0I6z+mj2oE2yjxPx78A+M9Bts/vqTAq3yE5T/b+zteX4jjP+F2Ilnq8+U/vSJfoH+r6z8+eOdp3MbwP/xDMiongNg/e9tvjSkT0T8fLdG5BEPwPw==\",\"dtype\":\"float64\",\"order\":\"little\",\"shape\":[47]}},\"selected\":{\"id\":\"1751\"},\"selection_policy\":{\"id\":\"1769\"}},\"id\":\"1750\",\"type\":\"ColumnDataSource\"},{\"attributes\":{\"callback\":null,\"renderers\":[{\"id\":\"1713\"},{\"id\":\"1734\"},{\"id\":\"1756\"}],\"tags\":[\"hv_created\"],\"tooltips\":[[\"class\",\"@{class}\"],[\"principal component 1\",\"@{principal_component_1}\"],[\"principal component 2\",\"@{principal_component_2}\"]]},\"id\":\"1668\",\"type\":\"HoverTool\"},{\"attributes\":{},\"id\":\"1751\",\"type\":\"Selection\"},{\"attributes\":{\"fill_color\":{\"value\":\"#fc4f30\"},\"hatch_color\":{\"value\":\"#fc4f30\"},\"line_color\":{\"value\":\"#fc4f30\"},\"size\":{\"value\":5.477225575051661},\"x\":{\"field\":\"principal component 1\"},\"y\":{\"field\":\"principal component 2\"}},\"id\":\"1731\",\"type\":\"Scatter\"},{\"attributes\":{},\"id\":\"1676\",\"type\":\"LinearScale\"},{\"attributes\":{},\"id\":\"1722\",\"type\":\"UnionRenderers\"},{\"attributes\":{\"fill_color\":{\"value\":\"#30a2da\"},\"hatch_color\":{\"value\":\"#30a2da\"},\"line_color\":{\"value\":\"#30a2da\"},\"size\":{\"value\":5.477225575051661},\"x\":{\"field\":\"principal component 1\"},\"y\":{\"field\":\"principal component 2\"}},\"id\":\"1710\",\"type\":\"Scatter\"},{\"attributes\":{\"fill_alpha\":{\"value\":0.1},\"fill_color\":{\"value\":\"#e5ae38\"},\"hatch_alpha\":{\"value\":0.1},\"hatch_color\":{\"value\":\"#e5ae38\"},\"line_alpha\":{\"value\":0.1},\"line_color\":{\"value\":\"#e5ae38\"},\"size\":{\"value\":5.477225575051661},\"x\":{\"field\":\"principal component 1\"},\"y\":{\"field\":\"principal component 2\"}},\"id\":\"1754\",\"type\":\"Scatter\"},{\"attributes\":{},\"id\":\"1745\",\"type\":\"UnionRenderers\"},{\"attributes\":{},\"id\":\"1678\",\"type\":\"LinearScale\"},{\"attributes\":{\"label\":{\"value\":\"2\"},\"renderers\":[{\"id\":\"1756\"}]},\"id\":\"1772\",\"type\":\"LegendItem\"},{\"attributes\":{},\"id\":\"1708\",\"type\":\"Selection\"},{\"attributes\":{\"end\":3.569854510235277,\"reset_end\":3.569854510235277,\"reset_start\":-3.034883121264353,\"start\":-3.034883121264353,\"tags\":[[[\"principal component 1\",\"principal component 1\",null]]]},\"id\":\"1666\",\"type\":\"Range1d\"},{\"attributes\":{\"end\":3.2604144520280935,\"reset_end\":3.2604144520280935,\"reset_start\":-3.196106053415385,\"start\":-3.196106053415385,\"tags\":[[[\"principal component 2\",\"principal component 2\",null]]]},\"id\":\"1667\",\"type\":\"Range1d\"},{\"attributes\":{\"data\":{\"class\":{\"__ndarray__\":\"AQAAAAEAAAABAAAAAQAAAAEAAAABAAAAAQAAAAEAAAABAAAAAQAAAAEAAAABAAAAAQAAAAEAAAABAAAAAQAAAAEAAAABAAAAAQAAAAEAAAABAAAAAQAAAAEAAAABAAAAAQAAAAEAAAABAAAAAQAAAAEAAAABAAAAAQAAAAEAAAABAAAAAQAAAAEAAAABAAAAAQAAAAEAAAABAAAAAQAAAAEAAAABAAAAAQAAAAEAAAABAAAAAQAAAAEAAAABAAAAAQAAAAEAAAABAAAAAQAAAAEAAAA=\",\"dtype\":\"int32\",\"order\":\"little\",\"shape\":[53]},\"principal component 1\":{\"__ndarray__\":\"exWMhntt2T9KnJZFWCnxP2eBHlf2mtg/9P4dZv7c3790GywXnaPtP+q/kDZaWXQ/KN6FPizsv7+uz+h8JxTcP1dNsk78puE/O0UqJwTz5j/Cz63ghxOjv5du06S8RdY/47Iv7V2iwz9m6iTH4XHzPyvYZACmFsQ/XK1SDE473j8RyjX41qXzP4sxy7fjI+Q/G9CK7kVq5j8dhVUnIzDlP9kb1FJINai/Rz98rN0cvz8MkFg5BOqMPx7f6GWaNc4/Ds1ZRTXo8D+YsJMoZVfMP9Cbvwf1kvA/q14TnFcrsT9yNwN1kKDRP8d9yQ7wbdE/pY3+VwPx4z+23kvRzh7VP9HEFNWD6de/1yTllsIb0j8sX21EL8y2PwEkQhu5t8w/9QRG5kBd4j/njFDrsj/dv96A0gDGJNA/3l8IKHdz8j/xoUp+m+/WP1n35HGkDPQ/GeKIxsts9z/9RPpdThD0P4pitwdQKu8/9IqkmmBE9T9ifP3wHsDyP9/2a9zEx/E/KjazatUo8z+YvvFQw4ztP95fCCh3c/I/SdVbMZXv+D822SvtkrLuPw==\",\"dtype\":\"float64\",\"order\":\"little\",\"shape\":[53]},\"principal component 2\":{\"__ndarray__\":\"lM0hw3Uh/L+SAFcJ4hrLv/MVlNb76eK/aJSza/eU/b/8i2FUCw+fP+nLA01tePC/9oKEXbZDBcC79gYTsCWuv03NqHx+XPy/33stxk+8x78wLLY26rLbvw6+JkVKZsi/mInUeJ9N6b9m5T6HOSL6v79Ai9CC2fS/uQipiLWp2r9Kr8dW+Rvuv+vFU70Krdq/EzfCViNBsL9mGdg+X7fMv2oFEZBX6vC/b8J8cXkE+b9x1i92nSz5v0WekB1e1Oi/EC0SzX5h5L98bj2aaPnRv76Ls++KR/a/j8do/yc3y79CZwsN7Ub1vykJ/oM76fG/zsUd1SI0nD9s68QlE6Xvv9DC5Ku5JADAp0s7dJBT67+ujkY+Z2PGv0/2R1TcWdi/gzq1mhitw7+3+86JpaH4v6h6HI5KEeO/TwhbdkNx5r9Alg29Jfb4v5MxaImirfK/rK9g7els3L9TKnQyOXv7v0fNWXwPR+K/R2wdsBUn37/I2YlbzWjUvwGUgLFv8dK/T6/b9jwm6r9QAFtSILGTP08IW3ZDcea/xFrVOlT47L9lCiw2mtGWvw==\",\"dtype\":\"float64\",\"order\":\"little\",\"shape\":[53]},\"principal_component_1\":{\"__ndarray__\":\"exWMhntt2T9KnJZFWCnxP2eBHlf2mtg/9P4dZv7c3790GywXnaPtP+q/kDZaWXQ/KN6FPizsv7+uz+h8JxTcP1dNsk78puE/O0UqJwTz5j/Cz63ghxOjv5du06S8RdY/47Iv7V2iwz9m6iTH4XHzPyvYZACmFsQ/XK1SDE473j8RyjX41qXzP4sxy7fjI+Q/G9CK7kVq5j8dhVUnIzDlP9kb1FJINai/Rz98rN0cvz8MkFg5BOqMPx7f6GWaNc4/Ds1ZRTXo8D+YsJMoZVfMP9Cbvwf1kvA/q14TnFcrsT9yNwN1kKDRP8d9yQ7wbdE/pY3+VwPx4z+23kvRzh7VP9HEFNWD6de/1yTllsIb0j8sX21EL8y2PwEkQhu5t8w/9QRG5kBd4j/njFDrsj/dv96A0gDGJNA/3l8IKHdz8j/xoUp+m+/WP1n35HGkDPQ/GeKIxsts9z/9RPpdThD0P4pitwdQKu8/9IqkmmBE9T9ifP3wHsDyP9/2a9zEx/E/KjazatUo8z+YvvFQw4ztP95fCCh3c/I/SdVbMZXv+D822SvtkrLuPw==\",\"dtype\":\"float64\",\"order\":\"little\",\"shape\":[53]},\"principal_component_2\":{\"__ndarray__\":\"lM0hw3Uh/L+SAFcJ4hrLv/MVlNb76eK/aJSza/eU/b/8i2FUCw+fP+nLA01tePC/9oKEXbZDBcC79gYTsCWuv03NqHx+XPy/33stxk+8x78wLLY26rLbvw6+JkVKZsi/mInUeJ9N6b9m5T6HOSL6v79Ai9CC2fS/uQipiLWp2r9Kr8dW+Rvuv+vFU70Krdq/EzfCViNBsL9mGdg+X7fMv2oFEZBX6vC/b8J8cXkE+b9x1i92nSz5v0WekB1e1Oi/EC0SzX5h5L98bj2aaPnRv76Ls++KR/a/j8do/yc3y79CZwsN7Ub1vykJ/oM76fG/zsUd1SI0nD9s68QlE6Xvv9DC5Ku5JADAp0s7dJBT67+ujkY+Z2PGv0/2R1TcWdi/gzq1mhitw7+3+86JpaH4v6h6HI5KEeO/TwhbdkNx5r9Alg29Jfb4v5MxaImirfK/rK9g7els3L9TKnQyOXv7v0fNWXwPR+K/R2wdsBUn37/I2YlbzWjUvwGUgLFv8dK/T6/b9jwm6r9QAFtSILGTP08IW3ZDcea/xFrVOlT47L9lCiw2mtGWvw==\",\"dtype\":\"float64\",\"order\":\"little\",\"shape\":[53]}},\"selected\":{\"id\":\"1729\"},\"selection_policy\":{\"id\":\"1745\"}},\"id\":\"1728\",\"type\":\"ColumnDataSource\"},{\"attributes\":{\"fill_alpha\":{\"value\":0.2},\"fill_color\":{\"value\":\"#30a2da\"},\"hatch_alpha\":{\"value\":0.2},\"hatch_color\":{\"value\":\"#30a2da\"},\"line_alpha\":{\"value\":0.2},\"line_color\":{\"value\":\"#30a2da\"},\"size\":{\"value\":5.477225575051661},\"x\":{\"field\":\"principal component 1\"},\"y\":{\"field\":\"principal component 2\"}},\"id\":\"1712\",\"type\":\"Scatter\"}],\"root_ids\":[\"1664\"]},\"title\":\"Bokeh Application\",\"version\":\"2.4.2\"}};\n",
       "    var render_items = [{\"docid\":\"426ddb58-3504-46ee-a6a3-a7f9d2891255\",\"root_ids\":[\"1664\"],\"roots\":{\"1664\":\"06416693-189e-44bf-85a8-b96aaa8e30f5\"}}];\n",
       "    root.Bokeh.embed.embed_items_notebook(docs_json, render_items);\n",
       "  }\n",
       "  if (root.Bokeh !== undefined && root.Bokeh.Panel !== undefined) {\n",
       "    embed_document(root);\n",
       "  } else {\n",
       "    var attempts = 0;\n",
       "    var timer = setInterval(function(root) {\n",
       "      if (root.Bokeh !== undefined && root.Bokeh.Panel !== undefined) {\n",
       "        clearInterval(timer);\n",
       "        embed_document(root);\n",
       "      } else if (document.readyState == \"complete\") {\n",
       "        attempts++;\n",
       "        if (attempts > 200) {\n",
       "          clearInterval(timer);\n",
       "          console.log(\"Bokeh: ERROR: Unable to run BokehJS code because BokehJS library is missing\");\n",
       "        }\n",
       "      }\n",
       "    }, 25, root)\n",
       "  }\n",
       "})(window);</script>"
      ],
      "text/plain": [
       ":NdOverlay   [class]\n",
       "   :Scatter   [principal component 1]   (principal component 2,class)"
      ]
     },
     "execution_count": 33,
     "metadata": {
      "application/vnd.holoviews_exec.v0+json": {
       "id": "1664"
      }
     },
     "output_type": "execute_result"
    }
   ],
   "source": [
    "df_iris_pca.hvplot.scatter(\n",
    "    x=\"principal component 1\",\n",
    "    y=\"principal component 2\",\n",
    "    hover_cols=[\"class\"],\n",
    "    by=\"class\",\n",
    ")"
   ]
  },
  {
   "cell_type": "code",
   "execution_count": null,
   "id": "f195e386",
   "metadata": {},
   "outputs": [],
   "source": []
  },
  {
   "cell_type": "code",
   "execution_count": null,
   "id": "57a90ce9",
   "metadata": {},
   "outputs": [],
   "source": []
  }
 ],
 "metadata": {
  "kernelspec": {
   "display_name": "Python 3",
   "language": "python",
   "name": "python3"
  },
  "language_info": {
   "codemirror_mode": {
    "name": "ipython",
    "version": 3
   },
   "file_extension": ".py",
   "mimetype": "text/x-python",
   "name": "python",
   "nbconvert_exporter": "python",
   "pygments_lexer": "ipython3",
   "version": "3.8.8"
  }
 },
 "nbformat": 4,
 "nbformat_minor": 5
}
